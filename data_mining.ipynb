{
 "cells": [
  {
   "cell_type": "code",
   "execution_count": 28,
   "id": "d0c2bb71",
   "metadata": {},
   "outputs": [],
   "source": [
    "import requests\n",
    "from bs4 import BeautifulSoup\n",
    "import lxml\n",
    "import pandas as pd\n",
    "import time\n",
    "import json\n",
    "import pathlib"
   ]
  },
  {
   "cell_type": "code",
   "execution_count": 8,
   "id": "662bfef2",
   "metadata": {},
   "outputs": [],
   "source": [
    "session = requests.Session()"
   ]
  },
  {
   "cell_type": "code",
   "execution_count": 9,
   "id": "858aa217",
   "metadata": {},
   "outputs": [
    {
     "data": {
      "text/plain": [
       "{'User-Agent': 'python-requests/2.31.0', 'Accept-Encoding': 'gzip, deflate, br', 'Accept': '*/*', 'Connection': 'keep-alive'}"
      ]
     },
     "execution_count": 9,
     "metadata": {},
     "output_type": "execute_result"
    }
   ],
   "source": [
    "session.headers"
   ]
  },
  {
   "cell_type": "code",
   "execution_count": 10,
   "id": "6951c59e",
   "metadata": {},
   "outputs": [],
   "source": [
    "headers = {'User-Agent': 'Mozilla/5.0 (Windows NT 10.0; Win64; x64; en-US; rv:76.0) Gecko/20100101 Firefox/76.0'}\n",
    "session.headers.update(headers)"
   ]
  },
  {
   "cell_type": "code",
   "execution_count": 11,
   "id": "0afc5d36",
   "metadata": {},
   "outputs": [],
   "source": [
    "params_tmccmldm = {\n",
    "    'fillQuickSearch':'false',\n",
    "    'target':'advanced',\n",
    "    'expand':'dl',\n",
    "    'field1':'AllField',\n",
    "    'text1':\"Text AND Mining OR Clustering OR Classification OR Machine AND Learning OR Data AND Mining\",\n",
    "    'Ppub':\"[20170315 TO 20220315]\",\n",
    "    'pageSize':50,\n",
    "    'startPage':0,\n",
    "    'rel':'nofollow',\n",
    "    'ContentItemType':'research-article'\n",
    "}\n",
    "params_ha = {'fillQuickSearch':'false',\n",
    "              'target':'advanced',\n",
    "              'expand':'dl',\n",
    "              'field1':'AllField',\n",
    "              'text1':\"Hardware AND Architecture\",\n",
    "              'Ppub':\"[20210315 TO 20220315]\",\n",
    "              'pageSize':50,\n",
    "              'startPage':0,\n",
    "              'rel':'nofollow',\n",
    "              'ContentItemType':'research-article'}\n",
    "params_se = {'fillQuickSearch':'false',\n",
    "              'target':'advanced',\n",
    "              'expand':'dl',\n",
    "              'field1':'AllField',\n",
    "              'text1':\"Software AND Engineering\",\n",
    "              'Ppub':\"[20210315 TO 20220315]\",\n",
    "              'pageSize':50,\n",
    "              'startPage':0,\n",
    "              'rel':'nofollow',\n",
    "              'ContentItemType':'research-article'}\n",
    "params_fl = {'fillQuickSearch':'false',\n",
    "              'target':'advanced',\n",
    "              'expand':'dl',\n",
    "              'field1':'AllField',\n",
    "              'text1':\"Fuzzy AND Logic\",\n",
    "              'Ppub':\"[20210315 TO 20220315]\",\n",
    "              'pageSize':50,\n",
    "              'startPage':0,\n",
    "              'rel':'nofollow',\n",
    "              'ContentItemType':'research-article'}\n",
    "params_sc = {'fillQuickSearch':'false',\n",
    "              'target':'advanced',\n",
    "              'expand':'dl',\n",
    "              'field1':'AllField',\n",
    "              'text1':\"Systems AND Control\",\n",
    "              'Ppub':\"[20210315 TO 20220315]\",\n",
    "              'pageSize':50,\n",
    "              'startPage':0,\n",
    "              'rel':'nofollow',\n",
    "              'ContentItemType':'research-article'}\n",
    "params_db = {'fillQuickSearch':'false',\n",
    "              'target':'advanced',\n",
    "              'expand':'dl',\n",
    "              'field1':'AllField',\n",
    "              'text1':\"Databases\",\n",
    "              'Ppub':\"[20210315 TO 20220315]\",\n",
    "              'pageSize':50,\n",
    "              'startPage':0,\n",
    "              'rel':'nofollow',\n",
    "              'ContentItemType':'research-article'}\n",
    "params_cs = {'fillQuickSearch':'false',\n",
    "              'target':'advanced',\n",
    "              'expand':'dl',\n",
    "              'field1':'AllField',\n",
    "              'text1':\"Computer AND Security\",\n",
    "              'Ppub':\"[20210315 TO 20220315]\",\n",
    "              'pageSize':50,\n",
    "              'startPage':0,\n",
    "              'rel':'nofollow',\n",
    "              'ContentItemType':'research-article'}"
   ]
  },
  {
   "cell_type": "code",
   "execution_count": 12,
   "id": "9530c181",
   "metadata": {},
   "outputs": [],
   "source": [
    "response = session.get('https://dl.acm.org/action/doSearch', params=params_tmccmldm)"
   ]
  },
  {
   "cell_type": "code",
   "execution_count": 13,
   "id": "13eecad0",
   "metadata": {},
   "outputs": [
    {
     "data": {
      "text/plain": [
       "200"
      ]
     },
     "execution_count": 13,
     "metadata": {},
     "output_type": "execute_result"
    }
   ],
   "source": [
    "response.status_code"
   ]
  },
  {
   "cell_type": "code",
   "execution_count": 14,
   "id": "67f528e5",
   "metadata": {},
   "outputs": [
    {
     "data": {
      "text/plain": [
       "'https://dl.acm.org/action/doSearch?fillQuickSearch=false&target=advanced&expand=dl&field1=AllField&text1=Text+AND+Mining+OR+Clustering+OR+Classification+OR+Machine+AND+Learning+OR+Data+AND+Mining&Ppub=%5B20170315+TO+20220315%5D&pageSize=50&startPage=0&rel=nofollow&ContentItemType=research-article'"
      ]
     },
     "execution_count": 14,
     "metadata": {},
     "output_type": "execute_result"
    }
   ],
   "source": [
    "response.url"
   ]
  },
  {
   "cell_type": "code",
   "execution_count": 15,
   "id": "7a6b8666",
   "metadata": {},
   "outputs": [],
   "source": [
    "def parse_page(params, page):\n",
    "    params['startPage'] = page\n",
    "    response = session.get('https://dl.acm.org/action/doSearch', params=params)\n",
    "    soup = BeautifulSoup(response.text, 'lxml')\n",
    "    titles_links = [[title.text, f\"https://dl.acm.org{title.select_one('a')['href']}\"] for title in soup.select('.hlFld-Title')]\n",
    "    return titles_links"
   ]
  },
  {
   "cell_type": "code",
   "execution_count": 37,
   "id": "76be7222",
   "metadata": {},
   "outputs": [],
   "source": [
    "def parse_info(url):\n",
    "    response = session.get(url)\n",
    "    soup = BeautifulSoup(response.text, 'lxml')\n",
    "    authors = [author.text for author in soup.select('.loa__author-name')]\n",
    "    meta = soup.select_one('.issue-item__detail a')\n",
    "    meta = meta['title'] if meta else None\n",
    "    date = soup.select_one('.epub-section__date')\n",
    "    date = date.text.strip() if date else None\n",
    "    abstract = soup.select_one('.abstractSection')\n",
    "    abstract = abstract.text.strip() if abstract else None\n",
    "    return authors, meta, date, abstract"
   ]
  },
  {
   "cell_type": "code",
   "execution_count": null,
   "id": "1ebb1dd0",
   "metadata": {},
   "outputs": [],
   "source": [
    "params = [params_tmccmldm, params_ha, params_se, params_fl, params_sc, params_db, params_cs]\n",
    "categories = ['tmccmldm', 'ha', 'se', 'fl', 'sc', 'db', 'cs']\n",
    "for i in range(1, len(params)):\n",
    "    with open(f'{categories[i]}_category.csv', 'a', newline='', encoding='utf-8') as file:\n",
    "        file.write(f\"title;;;authors;;;date;;;source;;;abstract;;;link;;;category\\n\")\n",
    "        for page in range(20):\n",
    "            titles_links = parse_page(params[i], page)\n",
    "            for title, link in titles_links:\n",
    "                authors, source, date, abstract = parse_info(link)\n",
    "                file.write(f\"{title};;;{authors};;;{date};;;{source};;;{abstract};;;{link};;;{params[i]['text1']}\\n\")"
   ]
  },
  {
   "cell_type": "code",
   "execution_count": 58,
   "id": "b860c62a",
   "metadata": {
    "scrolled": true
   },
   "outputs": [
    {
     "name": "stderr",
     "output_type": "stream",
     "text": [
      "C:\\Users\\linag\\AppData\\Local\\Temp\\ipykernel_6968\\3011047585.py:1: ParserWarning: Falling back to the 'python' engine because the 'c' engine does not support regex separators (separators > 1 char and different from '\\s+' are interpreted as regex); you can avoid this warning by specifying engine='python'.\n",
      "  df = pd.read_csv('tmccmldm_category.csv', encoding='utf-8', sep=';;;')\n"
     ]
    },
    {
     "data": {
      "text/html": [
       "<div>\n",
       "<style scoped>\n",
       "    .dataframe tbody tr th:only-of-type {\n",
       "        vertical-align: middle;\n",
       "    }\n",
       "\n",
       "    .dataframe tbody tr th {\n",
       "        vertical-align: top;\n",
       "    }\n",
       "\n",
       "    .dataframe thead th {\n",
       "        text-align: right;\n",
       "    }\n",
       "</style>\n",
       "<table border=\"1\" class=\"dataframe\">\n",
       "  <thead>\n",
       "    <tr style=\"text-align: right;\">\n",
       "      <th></th>\n",
       "      <th>title</th>\n",
       "      <th>authors</th>\n",
       "      <th>date</th>\n",
       "      <th>source</th>\n",
       "      <th>abstract</th>\n",
       "      <th>link</th>\n",
       "      <th>category</th>\n",
       "    </tr>\n",
       "  </thead>\n",
       "  <tbody>\n",
       "    <tr>\n",
       "      <th>0</th>\n",
       "      <td>Text mining for incoming tasks based on the ur...</td>\n",
       "      <td>['Yasser Ali Alshehri']</td>\n",
       "      <td>March 2020</td>\n",
       "      <td>ICCDA '20: Proceedings of the 2020 4th Interna...</td>\n",
       "      <td>In workplaces, there is a massive amount of un...</td>\n",
       "      <td>https://dl.acm.org/doi/10.1145/3388142.3388153</td>\n",
       "      <td>Text AND Mining OR Clustering OR Classificatio...</td>\n",
       "    </tr>\n",
       "    <tr>\n",
       "      <th>1</th>\n",
       "      <td>Text mining for malware classification using m...</td>\n",
       "      <td>['Konstantinos F. Xylogiannopoulos', 'Panagiot...</td>\n",
       "      <td>August 2019</td>\n",
       "      <td>ASONAM '19: Proceedings of the 2019 IEEE/ACM I...</td>\n",
       "      <td>Mobile phones have become nowadays a commodity...</td>\n",
       "      <td>https://dl.acm.org/doi/10.1145/3341161.3350841</td>\n",
       "      <td>Text AND Mining OR Clustering OR Classificatio...</td>\n",
       "    </tr>\n",
       "    <tr>\n",
       "      <th>2</th>\n",
       "      <td>Comparative Study between Traditional Machine ...</td>\n",
       "      <td>['Cannannore Nidhi Kamath', 'Syed Saqib Bukhar...</td>\n",
       "      <td>August 2018</td>\n",
       "      <td>DocEng '18: Proceedings of the ACM Symposium o...</td>\n",
       "      <td>In this contemporaneous world, it is an obliga...</td>\n",
       "      <td>https://dl.acm.org/doi/10.1145/3209280.3209526</td>\n",
       "      <td>Text AND Mining OR Clustering OR Classificatio...</td>\n",
       "    </tr>\n",
       "    <tr>\n",
       "      <th>3</th>\n",
       "      <td>Where is the road for issue reports classifica...</td>\n",
       "      <td>['Qiang Fan', 'Yue Yu', 'Gang Yin', 'Tao Wang'...</td>\n",
       "      <td>November 2017</td>\n",
       "      <td>ESEM '17: Proceedings of the 11th ACM/IEEE Int...</td>\n",
       "      <td>Currently, open source projects receive variou...</td>\n",
       "      <td>https://dl.acm.org/doi/10.1109/ESEM.2017.19</td>\n",
       "      <td>Text AND Mining OR Clustering OR Classificatio...</td>\n",
       "    </tr>\n",
       "    <tr>\n",
       "      <th>4</th>\n",
       "      <td>Identification of Overpricing in the Purchase ...</td>\n",
       "      <td>['Marco Aurelio O. S. Correa', 'Adriano Galind...</td>\n",
       "      <td>August 2018</td>\n",
       "      <td>ICCBDC '18: Proceedings of the 2018 2nd Intern...</td>\n",
       "      <td>Increasing the transparency level in his actio...</td>\n",
       "      <td>https://dl.acm.org/doi/10.1145/3264560.3264569</td>\n",
       "      <td>Text AND Mining OR Clustering OR Classificatio...</td>\n",
       "    </tr>\n",
       "    <tr>\n",
       "      <th>...</th>\n",
       "      <td>...</td>\n",
       "      <td>...</td>\n",
       "      <td>...</td>\n",
       "      <td>...</td>\n",
       "      <td>...</td>\n",
       "      <td>...</td>\n",
       "      <td>...</td>\n",
       "    </tr>\n",
       "    <tr>\n",
       "      <th>996</th>\n",
       "      <td>TipTap: Approximate Mining of Frequent k-Subgr...</td>\n",
       "      <td>['Muhammad Anis Uddin Nasir', 'Cigdem Aslay', ...</td>\n",
       "      <td>NaN</td>\n",
       "      <td>ACM Transactions on Knowledge Discovery from Data</td>\n",
       "      <td>“Perhaps he could dance first and think afterw...</td>\n",
       "      <td>https://dl.acm.org/doi/10.1145/3442590</td>\n",
       "      <td>Text AND Mining OR Clustering OR Classificatio...</td>\n",
       "    </tr>\n",
       "    <tr>\n",
       "      <th>997</th>\n",
       "      <td>Interactive Document Clustering Revisited: A V...</td>\n",
       "      <td>['Ehsan Sherkat', 'Seyednaser Nourashrafeddin'...</td>\n",
       "      <td>March 2018</td>\n",
       "      <td>IUI '18: 23rd International Conference on Inte...</td>\n",
       "      <td>Document clustering is an efficient way to get...</td>\n",
       "      <td>https://dl.acm.org/doi/10.1145/3172944.3172964</td>\n",
       "      <td>Text AND Mining OR Clustering OR Classificatio...</td>\n",
       "    </tr>\n",
       "    <tr>\n",
       "      <th>998</th>\n",
       "      <td>Data Mining in Health Care Sector: Literature ...</td>\n",
       "      <td>['Ahed Abugabah', 'Ahmad Al Smadi', 'Alaa Abuq...</td>\n",
       "      <td>November 2019</td>\n",
       "      <td>CIIS '19: Proceedings of the 2019 2nd Internat...</td>\n",
       "      <td>A standout amongst the most essential strides ...</td>\n",
       "      <td>https://dl.acm.org/doi/10.1145/3372422.3372451</td>\n",
       "      <td>Text AND Mining OR Clustering OR Classificatio...</td>\n",
       "    </tr>\n",
       "    <tr>\n",
       "      <th>999</th>\n",
       "      <td>Classification of Bacterial and Viral Childhoo...</td>\n",
       "      <td>['Xianghong Gu', 'Liyan Pan', 'Huiying Liang',...</td>\n",
       "      <td>March 2018</td>\n",
       "      <td>ICMIP '18: Proceedings of the 3rd Internationa...</td>\n",
       "      <td>Over decades, computer aided diagnosis (CAD) s...</td>\n",
       "      <td>https://dl.acm.org/doi/10.1145/3195588.3195597</td>\n",
       "      <td>Text AND Mining OR Clustering OR Classificatio...</td>\n",
       "    </tr>\n",
       "    <tr>\n",
       "      <th>1000</th>\n",
       "      <td>Deep Learning Based Tumor Type Classification ...</td>\n",
       "      <td>['Boyu Lyu', 'Anamul Haque']</td>\n",
       "      <td>August 2018</td>\n",
       "      <td>BCB '18: Proceedings of the 2018 ACM Internati...</td>\n",
       "      <td>The differential analysis is the most signific...</td>\n",
       "      <td>https://dl.acm.org/doi/10.1145/3233547.3233588</td>\n",
       "      <td>Text AND Mining OR Clustering OR Classificatio...</td>\n",
       "    </tr>\n",
       "  </tbody>\n",
       "</table>\n",
       "<p>1001 rows × 7 columns</p>\n",
       "</div>"
      ],
      "text/plain": [
       "                                                  title  \\\n",
       "0     Text mining for incoming tasks based on the ur...   \n",
       "1     Text mining for malware classification using m...   \n",
       "2     Comparative Study between Traditional Machine ...   \n",
       "3     Where is the road for issue reports classifica...   \n",
       "4     Identification of Overpricing in the Purchase ...   \n",
       "...                                                 ...   \n",
       "996   TipTap: Approximate Mining of Frequent k-Subgr...   \n",
       "997   Interactive Document Clustering Revisited: A V...   \n",
       "998   Data Mining in Health Care Sector: Literature ...   \n",
       "999   Classification of Bacterial and Viral Childhoo...   \n",
       "1000  Deep Learning Based Tumor Type Classification ...   \n",
       "\n",
       "                                                authors           date  \\\n",
       "0                               ['Yasser Ali Alshehri']     March 2020   \n",
       "1     ['Konstantinos F. Xylogiannopoulos', 'Panagiot...    August 2019   \n",
       "2     ['Cannannore Nidhi Kamath', 'Syed Saqib Bukhar...    August 2018   \n",
       "3     ['Qiang Fan', 'Yue Yu', 'Gang Yin', 'Tao Wang'...  November 2017   \n",
       "4     ['Marco Aurelio O. S. Correa', 'Adriano Galind...    August 2018   \n",
       "...                                                 ...            ...   \n",
       "996   ['Muhammad Anis Uddin Nasir', 'Cigdem Aslay', ...            NaN   \n",
       "997   ['Ehsan Sherkat', 'Seyednaser Nourashrafeddin'...     March 2018   \n",
       "998   ['Ahed Abugabah', 'Ahmad Al Smadi', 'Alaa Abuq...  November 2019   \n",
       "999   ['Xianghong Gu', 'Liyan Pan', 'Huiying Liang',...     March 2018   \n",
       "1000                       ['Boyu Lyu', 'Anamul Haque']    August 2018   \n",
       "\n",
       "                                                 source  \\\n",
       "0     ICCDA '20: Proceedings of the 2020 4th Interna...   \n",
       "1     ASONAM '19: Proceedings of the 2019 IEEE/ACM I...   \n",
       "2     DocEng '18: Proceedings of the ACM Symposium o...   \n",
       "3     ESEM '17: Proceedings of the 11th ACM/IEEE Int...   \n",
       "4     ICCBDC '18: Proceedings of the 2018 2nd Intern...   \n",
       "...                                                 ...   \n",
       "996   ACM Transactions on Knowledge Discovery from Data   \n",
       "997   IUI '18: 23rd International Conference on Inte...   \n",
       "998   CIIS '19: Proceedings of the 2019 2nd Internat...   \n",
       "999   ICMIP '18: Proceedings of the 3rd Internationa...   \n",
       "1000  BCB '18: Proceedings of the 2018 ACM Internati...   \n",
       "\n",
       "                                               abstract  \\\n",
       "0     In workplaces, there is a massive amount of un...   \n",
       "1     Mobile phones have become nowadays a commodity...   \n",
       "2     In this contemporaneous world, it is an obliga...   \n",
       "3     Currently, open source projects receive variou...   \n",
       "4     Increasing the transparency level in his actio...   \n",
       "...                                                 ...   \n",
       "996   “Perhaps he could dance first and think afterw...   \n",
       "997   Document clustering is an efficient way to get...   \n",
       "998   A standout amongst the most essential strides ...   \n",
       "999   Over decades, computer aided diagnosis (CAD) s...   \n",
       "1000  The differential analysis is the most signific...   \n",
       "\n",
       "                                                link  \\\n",
       "0     https://dl.acm.org/doi/10.1145/3388142.3388153   \n",
       "1     https://dl.acm.org/doi/10.1145/3341161.3350841   \n",
       "2     https://dl.acm.org/doi/10.1145/3209280.3209526   \n",
       "3        https://dl.acm.org/doi/10.1109/ESEM.2017.19   \n",
       "4     https://dl.acm.org/doi/10.1145/3264560.3264569   \n",
       "...                                              ...   \n",
       "996           https://dl.acm.org/doi/10.1145/3442590   \n",
       "997   https://dl.acm.org/doi/10.1145/3172944.3172964   \n",
       "998   https://dl.acm.org/doi/10.1145/3372422.3372451   \n",
       "999   https://dl.acm.org/doi/10.1145/3195588.3195597   \n",
       "1000  https://dl.acm.org/doi/10.1145/3233547.3233588   \n",
       "\n",
       "                                               category  \n",
       "0     Text AND Mining OR Clustering OR Classificatio...  \n",
       "1     Text AND Mining OR Clustering OR Classificatio...  \n",
       "2     Text AND Mining OR Clustering OR Classificatio...  \n",
       "3     Text AND Mining OR Clustering OR Classificatio...  \n",
       "4     Text AND Mining OR Clustering OR Classificatio...  \n",
       "...                                                 ...  \n",
       "996   Text AND Mining OR Clustering OR Classificatio...  \n",
       "997   Text AND Mining OR Clustering OR Classificatio...  \n",
       "998   Text AND Mining OR Clustering OR Classificatio...  \n",
       "999   Text AND Mining OR Clustering OR Classificatio...  \n",
       "1000  Text AND Mining OR Clustering OR Classificatio...  \n",
       "\n",
       "[1001 rows x 7 columns]"
      ]
     },
     "execution_count": 58,
     "metadata": {},
     "output_type": "execute_result"
    }
   ],
   "source": [
    "df = pd.read_csv('tmccmldm_category.csv', encoding='utf-8', sep=';;;')\n",
    "df"
   ]
  },
  {
   "cell_type": "code",
   "execution_count": 29,
   "id": "14e04c86",
   "metadata": {},
   "outputs": [],
   "source": [
    "def csv2json(csv_file_path, json_file_path, delimiter):\n",
    "    json_data = []\n",
    "\n",
    "    with open(csv_file_path, 'r', encoding='utf-8') as file:\n",
    "        headers = file.readline().strip().split(delimiter)\n",
    "\n",
    "        for line in file:\n",
    "            values = line.strip().split(delimiter)\n",
    "            if len(values) != len(headers):\n",
    "                continue\n",
    "            data = {headers[i]: values[i] for i in range(len(headers))}\n",
    "            json_data.append(data)\n",
    "\n",
    "    with open(json_file_path, 'w', encoding='utf-8') as json_file:\n",
    "        json.dump(json_data, json_file, indent=4, ensure_ascii=False)"
   ]
  },
  {
   "cell_type": "code",
   "execution_count": 27,
   "id": "25488ea4",
   "metadata": {},
   "outputs": [],
   "source": [
    "csv2json('tmccmldm_category.csv', 'tmccmldm_category.json', ';;;')"
   ]
  },
  {
   "cell_type": "code",
   "execution_count": 31,
   "id": "0d6e1033",
   "metadata": {},
   "outputs": [],
   "source": [
    "csv2json('ha_category.csv', 'ha_category.json', ';;;')"
   ]
  },
  {
   "cell_type": "code",
   "execution_count": 32,
   "id": "71e3f18e",
   "metadata": {},
   "outputs": [],
   "source": [
    "csv2json('se_category.csv', 'se_category.json', ';;;')"
   ]
  },
  {
   "cell_type": "code",
   "execution_count": 33,
   "id": "57e163b0",
   "metadata": {},
   "outputs": [],
   "source": [
    "csv2json('fl_category.csv', 'fl_category.json', ';;;')"
   ]
  },
  {
   "cell_type": "code",
   "execution_count": 34,
   "id": "fcc2a4d1",
   "metadata": {},
   "outputs": [],
   "source": [
    "csv2json('sc_category.csv', 'sc_category.json', ';;;')"
   ]
  },
  {
   "cell_type": "code",
   "execution_count": 35,
   "id": "d22c24b9",
   "metadata": {},
   "outputs": [],
   "source": [
    "csv2json('db_category.csv', 'db_category.json', ';;;')"
   ]
  },
  {
   "cell_type": "code",
   "execution_count": 36,
   "id": "f21460c2",
   "metadata": {},
   "outputs": [],
   "source": [
    "csv2json('cs_category.csv', 'cs_category.json', ';;;')"
   ]
  }
 ],
 "metadata": {
  "kernelspec": {
   "display_name": "Python 3 (ipykernel)",
   "language": "python",
   "name": "python3"
  },
  "language_info": {
   "codemirror_mode": {
    "name": "ipython",
    "version": 3
   },
   "file_extension": ".py",
   "mimetype": "text/x-python",
   "name": "python",
   "nbconvert_exporter": "python",
   "pygments_lexer": "ipython3",
   "version": "3.11.5"
  }
 },
 "nbformat": 4,
 "nbformat_minor": 5
}
