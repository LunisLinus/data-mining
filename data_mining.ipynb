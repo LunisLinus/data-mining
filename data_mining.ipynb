{
 "cells": [
  {
   "cell_type": "code",
   "execution_count": 2,
   "id": "d0c2bb71",
   "metadata": {},
   "outputs": [
    {
     "name": "stdout",
     "output_type": "stream",
     "text": [
      "Collecting selenium\n",
      "  Obtaining dependency information for selenium from https://files.pythonhosted.org/packages/0e/59/aae37fa93e2d4292c3148efcc3066c8ecfe5cfaa72bf8c0b1a5614622cf7/selenium-4.15.2-py3-none-any.whl.metadata\n",
      "  Downloading selenium-4.15.2-py3-none-any.whl.metadata (6.9 kB)\n",
      "Requirement already satisfied: urllib3[socks]<3,>=1.26 in c:\\users\\linag\\anaconda3\\lib\\site-packages (from selenium) (1.26.16)\n",
      "Collecting trio~=0.17 (from selenium)\n",
      "  Obtaining dependency information for trio~=0.17 from https://files.pythonhosted.org/packages/39/46/620fbe56f41fa3ccdda2136d947fb9bacce3d1eb163f057f0262a0ddf5e0/trio-0.23.1-py3-none-any.whl.metadata\n",
      "  Downloading trio-0.23.1-py3-none-any.whl.metadata (4.9 kB)\n",
      "Collecting trio-websocket~=0.9 (from selenium)\n",
      "  Obtaining dependency information for trio-websocket~=0.9 from https://files.pythonhosted.org/packages/48/be/a9ae5f50cad5b6f85bd2574c2c923730098530096e170c1ce7452394d7aa/trio_websocket-0.11.1-py3-none-any.whl.metadata\n",
      "  Downloading trio_websocket-0.11.1-py3-none-any.whl.metadata (4.7 kB)\n",
      "Requirement already satisfied: certifi>=2021.10.8 in c:\\users\\linag\\anaconda3\\lib\\site-packages (from selenium) (2023.7.22)\n",
      "Requirement already satisfied: attrs>=20.1.0 in c:\\users\\linag\\anaconda3\\lib\\site-packages (from trio~=0.17->selenium) (22.1.0)\n",
      "Requirement already satisfied: sortedcontainers in c:\\users\\linag\\anaconda3\\lib\\site-packages (from trio~=0.17->selenium) (2.4.0)\n",
      "Requirement already satisfied: idna in c:\\users\\linag\\anaconda3\\lib\\site-packages (from trio~=0.17->selenium) (3.4)\n",
      "Collecting outcome (from trio~=0.17->selenium)\n",
      "  Obtaining dependency information for outcome from https://files.pythonhosted.org/packages/55/8b/5ab7257531a5d830fc8000c476e63c935488d74609b50f9384a643ec0a62/outcome-1.3.0.post0-py2.py3-none-any.whl.metadata\n",
      "  Downloading outcome-1.3.0.post0-py2.py3-none-any.whl.metadata (2.6 kB)\n",
      "Collecting sniffio>=1.3.0 (from trio~=0.17->selenium)\n",
      "  Downloading sniffio-1.3.0-py3-none-any.whl (10 kB)\n",
      "Requirement already satisfied: cffi>=1.14 in c:\\users\\linag\\anaconda3\\lib\\site-packages (from trio~=0.17->selenium) (1.15.1)\n",
      "Collecting wsproto>=0.14 (from trio-websocket~=0.9->selenium)\n",
      "  Downloading wsproto-1.2.0-py3-none-any.whl (24 kB)\n",
      "Requirement already satisfied: PySocks!=1.5.7,<2.0,>=1.5.6 in c:\\users\\linag\\anaconda3\\lib\\site-packages (from urllib3[socks]<3,>=1.26->selenium) (1.7.1)\n",
      "Requirement already satisfied: pycparser in c:\\users\\linag\\anaconda3\\lib\\site-packages (from cffi>=1.14->trio~=0.17->selenium) (2.21)\n",
      "Collecting h11<1,>=0.9.0 (from wsproto>=0.14->trio-websocket~=0.9->selenium)\n",
      "  Downloading h11-0.14.0-py3-none-any.whl (58 kB)\n",
      "     ---------------------------------------- 0.0/58.3 kB ? eta -:--:--\n",
      "     ---------------------------------------- 58.3/58.3 kB 1.0 MB/s eta 0:00:00\n",
      "Downloading selenium-4.15.2-py3-none-any.whl (10.2 MB)\n",
      "   ---------------------------------------- 0.0/10.2 MB ? eta -:--:--\n",
      "   ---------------------------------------- 0.1/10.2 MB 5.1 MB/s eta 0:00:02\n",
      "   - -------------------------------------- 0.3/10.2 MB 3.9 MB/s eta 0:00:03\n",
      "   -- ------------------------------------- 0.6/10.2 MB 4.4 MB/s eta 0:00:03\n",
      "   --- ------------------------------------ 1.0/10.2 MB 5.5 MB/s eta 0:00:02\n",
      "   ------- -------------------------------- 2.0/10.2 MB 9.0 MB/s eta 0:00:01\n",
      "   -------------- ------------------------- 3.6/10.2 MB 13.7 MB/s eta 0:00:01\n",
      "   ---------------------------- ----------- 7.4/10.2 MB 22.4 MB/s eta 0:00:01\n",
      "   ---------------------------------------  10.2/10.2 MB 27.1 MB/s eta 0:00:01\n",
      "   ---------------------------------------- 10.2/10.2 MB 24.1 MB/s eta 0:00:00\n",
      "Downloading trio-0.23.1-py3-none-any.whl (448 kB)\n",
      "   ---------------------------------------- 0.0/448.3 kB ? eta -:--:--\n",
      "   --------------------------------------- 448.3/448.3 kB 27.4 MB/s eta 0:00:00\n",
      "Downloading trio_websocket-0.11.1-py3-none-any.whl (17 kB)\n",
      "Downloading outcome-1.3.0.post0-py2.py3-none-any.whl (10 kB)\n",
      "Installing collected packages: sniffio, outcome, h11, wsproto, trio, trio-websocket, selenium\n",
      "  Attempting uninstall: sniffio\n",
      "    Found existing installation: sniffio 1.2.0\n",
      "    Uninstalling sniffio-1.2.0:\n",
      "      Successfully uninstalled sniffio-1.2.0\n",
      "Successfully installed h11-0.14.0 outcome-1.3.0.post0 selenium-4.15.2 sniffio-1.3.0 trio-0.23.1 trio-websocket-0.11.1 wsproto-1.2.0\n"
     ]
    }
   ],
   "source": [
    "!pip install selenium"
   ]
  },
  {
   "cell_type": "code",
   "execution_count": 34,
   "id": "662bfef2",
   "metadata": {},
   "outputs": [],
   "source": [
    "from selenium import webdriver\n",
    "from selenium.webdriver.common.by import By\n",
    "from selenium.webdriver.common.action_chains import ActionChains\n",
    "from selenium.common.exceptions import NoSuchElementException\n",
    "import time"
   ]
  },
  {
   "cell_type": "code",
   "execution_count": 70,
   "id": "858aa217",
   "metadata": {},
   "outputs": [
    {
     "ename": "NoSuchElementException",
     "evalue": "Message: no such element: Unable to locate element: {\"method\":\"css selector\",\"selector\":\"#restab\"}\n  (Session info: chrome=118.0.5993.120); For documentation on this error, please visit: https://www.selenium.dev/documentation/webdriver/troubleshooting/errors#no-such-element-exception\nStacktrace:\n\tGetHandleVerifier [0x00007FF6420A8EF2+54786]\n\t(No symbol) [0x00007FF642015612]\n\t(No symbol) [0x00007FF641ECA64B]\n\t(No symbol) [0x00007FF641F0B79C]\n\t(No symbol) [0x00007FF641F0B91C]\n\t(No symbol) [0x00007FF641F46D87]\n\t(No symbol) [0x00007FF641F2BEAF]\n\t(No symbol) [0x00007FF641F44D02]\n\t(No symbol) [0x00007FF641F2BC43]\n\t(No symbol) [0x00007FF641F00941]\n\t(No symbol) [0x00007FF641F01B84]\n\tGetHandleVerifier [0x00007FF6423F7F52+3524194]\n\tGetHandleVerifier [0x00007FF64244D800+3874576]\n\tGetHandleVerifier [0x00007FF642445D7F+3843215]\n\tGetHandleVerifier [0x00007FF642145086+694166]\n\t(No symbol) [0x00007FF642020A88]\n\t(No symbol) [0x00007FF64201CA94]\n\t(No symbol) [0x00007FF64201CBC2]\n\t(No symbol) [0x00007FF64200CC83]\n\tBaseThreadInitThunk [0x00007FFA6212257D+29]\n\tRtlUserThreadStart [0x00007FFA636CAA78+40]\n",
     "output_type": "error",
     "traceback": [
      "\u001b[1;31m---------------------------------------------------------------------------\u001b[0m",
      "\u001b[1;31mNoSuchElementException\u001b[0m                    Traceback (most recent call last)",
      "Cell \u001b[1;32mIn[70], line 32\u001b[0m\n\u001b[0;32m     30\u001b[0m inf_publ \u001b[38;5;241m=\u001b[39m []\n\u001b[0;32m     31\u001b[0m \u001b[38;5;28;01mwhile\u001b[39;00m count_publ \u001b[38;5;241m<\u001b[39m \u001b[38;5;241m100\u001b[39m:\n\u001b[1;32m---> 32\u001b[0m     table_center \u001b[38;5;241m=\u001b[39m driver\u001b[38;5;241m.\u001b[39mfind_element(By\u001b[38;5;241m.\u001b[39mCSS_SELECTOR, \u001b[38;5;124m'\u001b[39m\u001b[38;5;124m#restab\u001b[39m\u001b[38;5;124m'\u001b[39m)\n\u001b[0;32m     33\u001b[0m     publications \u001b[38;5;241m=\u001b[39m table_center\u001b[38;5;241m.\u001b[39mfind_elements(By\u001b[38;5;241m.\u001b[39mTAG_NAME, \u001b[38;5;124m'\u001b[39m\u001b[38;5;124mtr\u001b[39m\u001b[38;5;124m'\u001b[39m)[\u001b[38;5;241m1\u001b[39m:]\n\u001b[0;32m     34\u001b[0m     \u001b[38;5;28;01mfor\u001b[39;00m publication \u001b[38;5;129;01min\u001b[39;00m publications:\n",
      "File \u001b[1;32m~\\anaconda3\\Lib\\site-packages\\selenium\\webdriver\\remote\\webdriver.py:741\u001b[0m, in \u001b[0;36mWebDriver.find_element\u001b[1;34m(self, by, value)\u001b[0m\n\u001b[0;32m    738\u001b[0m     by \u001b[38;5;241m=\u001b[39m By\u001b[38;5;241m.\u001b[39mCSS_SELECTOR\n\u001b[0;32m    739\u001b[0m     value \u001b[38;5;241m=\u001b[39m \u001b[38;5;124mf\u001b[39m\u001b[38;5;124m'\u001b[39m\u001b[38;5;124m[name=\u001b[39m\u001b[38;5;124m\"\u001b[39m\u001b[38;5;132;01m{\u001b[39;00mvalue\u001b[38;5;132;01m}\u001b[39;00m\u001b[38;5;124m\"\u001b[39m\u001b[38;5;124m]\u001b[39m\u001b[38;5;124m'\u001b[39m\n\u001b[1;32m--> 741\u001b[0m \u001b[38;5;28;01mreturn\u001b[39;00m \u001b[38;5;28mself\u001b[39m\u001b[38;5;241m.\u001b[39mexecute(Command\u001b[38;5;241m.\u001b[39mFIND_ELEMENT, {\u001b[38;5;124m\"\u001b[39m\u001b[38;5;124musing\u001b[39m\u001b[38;5;124m\"\u001b[39m: by, \u001b[38;5;124m\"\u001b[39m\u001b[38;5;124mvalue\u001b[39m\u001b[38;5;124m\"\u001b[39m: value})[\u001b[38;5;124m\"\u001b[39m\u001b[38;5;124mvalue\u001b[39m\u001b[38;5;124m\"\u001b[39m]\n",
      "File \u001b[1;32m~\\anaconda3\\Lib\\site-packages\\selenium\\webdriver\\remote\\webdriver.py:347\u001b[0m, in \u001b[0;36mWebDriver.execute\u001b[1;34m(self, driver_command, params)\u001b[0m\n\u001b[0;32m    345\u001b[0m response \u001b[38;5;241m=\u001b[39m \u001b[38;5;28mself\u001b[39m\u001b[38;5;241m.\u001b[39mcommand_executor\u001b[38;5;241m.\u001b[39mexecute(driver_command, params)\n\u001b[0;32m    346\u001b[0m \u001b[38;5;28;01mif\u001b[39;00m response:\n\u001b[1;32m--> 347\u001b[0m     \u001b[38;5;28mself\u001b[39m\u001b[38;5;241m.\u001b[39merror_handler\u001b[38;5;241m.\u001b[39mcheck_response(response)\n\u001b[0;32m    348\u001b[0m     response[\u001b[38;5;124m\"\u001b[39m\u001b[38;5;124mvalue\u001b[39m\u001b[38;5;124m\"\u001b[39m] \u001b[38;5;241m=\u001b[39m \u001b[38;5;28mself\u001b[39m\u001b[38;5;241m.\u001b[39m_unwrap_value(response\u001b[38;5;241m.\u001b[39mget(\u001b[38;5;124m\"\u001b[39m\u001b[38;5;124mvalue\u001b[39m\u001b[38;5;124m\"\u001b[39m, \u001b[38;5;28;01mNone\u001b[39;00m))\n\u001b[0;32m    349\u001b[0m     \u001b[38;5;28;01mreturn\u001b[39;00m response\n",
      "File \u001b[1;32m~\\anaconda3\\Lib\\site-packages\\selenium\\webdriver\\remote\\errorhandler.py:229\u001b[0m, in \u001b[0;36mErrorHandler.check_response\u001b[1;34m(self, response)\u001b[0m\n\u001b[0;32m    227\u001b[0m         alert_text \u001b[38;5;241m=\u001b[39m value[\u001b[38;5;124m\"\u001b[39m\u001b[38;5;124malert\u001b[39m\u001b[38;5;124m\"\u001b[39m]\u001b[38;5;241m.\u001b[39mget(\u001b[38;5;124m\"\u001b[39m\u001b[38;5;124mtext\u001b[39m\u001b[38;5;124m\"\u001b[39m)\n\u001b[0;32m    228\u001b[0m     \u001b[38;5;28;01mraise\u001b[39;00m exception_class(message, screen, stacktrace, alert_text)  \u001b[38;5;66;03m# type: ignore[call-arg]  # mypy is not smart enough here\u001b[39;00m\n\u001b[1;32m--> 229\u001b[0m \u001b[38;5;28;01mraise\u001b[39;00m exception_class(message, screen, stacktrace)\n",
      "\u001b[1;31mNoSuchElementException\u001b[0m: Message: no such element: Unable to locate element: {\"method\":\"css selector\",\"selector\":\"#restab\"}\n  (Session info: chrome=118.0.5993.120); For documentation on this error, please visit: https://www.selenium.dev/documentation/webdriver/troubleshooting/errors#no-such-element-exception\nStacktrace:\n\tGetHandleVerifier [0x00007FF6420A8EF2+54786]\n\t(No symbol) [0x00007FF642015612]\n\t(No symbol) [0x00007FF641ECA64B]\n\t(No symbol) [0x00007FF641F0B79C]\n\t(No symbol) [0x00007FF641F0B91C]\n\t(No symbol) [0x00007FF641F46D87]\n\t(No symbol) [0x00007FF641F2BEAF]\n\t(No symbol) [0x00007FF641F44D02]\n\t(No symbol) [0x00007FF641F2BC43]\n\t(No symbol) [0x00007FF641F00941]\n\t(No symbol) [0x00007FF641F01B84]\n\tGetHandleVerifier [0x00007FF6423F7F52+3524194]\n\tGetHandleVerifier [0x00007FF64244D800+3874576]\n\tGetHandleVerifier [0x00007FF642445D7F+3843215]\n\tGetHandleVerifier [0x00007FF642145086+694166]\n\t(No symbol) [0x00007FF642020A88]\n\t(No symbol) [0x00007FF64201CA94]\n\t(No symbol) [0x00007FF64201CBC2]\n\t(No symbol) [0x00007FF64200CC83]\n\tBaseThreadInitThunk [0x00007FFA6212257D+29]\n\tRtlUserThreadStart [0x00007FFA636CAA78+40]\n"
     ]
    }
   ],
   "source": [
    "options = webdriver.ChromeOptions()\n",
    "options.add_experimental_option('prefs', {\n",
    "    \"download.default_directory\": \"C:\\\\Users\\\\linag\\\\Science\\\\pdfs\",\n",
    "    \"plugins.always_open_pdf_externally\": True\n",
    "})\n",
    "\n",
    "with webdriver.Chrome(options=options) as driver:\n",
    "    driver.get('https://elibrary.ru/')\n",
    "    time.sleep(2)\n",
    "    #Регистрация на elibrary\n",
    "    login = driver.find_element(By.ID, 'login')\n",
    "    password = driver.find_element(By.ID, 'password')\n",
    "    login.send_keys('khrustitskayaSK')\n",
    "    password.send_keys('Metalorka12HP&')\n",
    "    time.sleep(2)\n",
    "    button = driver.find_element(By.CLASS_NAME, 'butred')\n",
    "    ActionChains(driver).move_to_element(button).click(button).perform()\n",
    "    time.sleep(2)\n",
    "    \n",
    "    #Поиск по сайту\n",
    "    search = driver.find_element(By.ID, 'ftext')\n",
    "    search.send_keys('Машинное обучение')\n",
    "    button = driver.find_element(By.CLASS_NAME, 'butblue')\n",
    "    ActionChains(driver).move_to_element(button).click(button).perform()\n",
    "    time.sleep(5)\n",
    "    \n",
    "    #Скачивание 60 научных публикаций в pdf\n",
    "    count_page = 1\n",
    "    count_publ = 0\n",
    "    inf_publ = []\n",
    "    while count_publ < 100:\n",
    "        table_center = driver.find_element(By.CSS_SELECTOR, '#restab')\n",
    "        publications = table_center.find_elements(By.TAG_NAME, 'tr')[1:]\n",
    "        for publication in publications:\n",
    "            ActionChains(driver).move_to_element(publication).perform()\n",
    "            try:\n",
    "                img = publication.find_element(By.TAG_NAME, 'img')\n",
    "                if 'green' in img.get_attribute('src'):\n",
    "                    count_publ += 1\n",
    "                    ActionChains(driver).move_to_element(img).click().perform()\n",
    "                    time.sleep(10)\n",
    "            except NoSuchElementException:\n",
    "                continue\n",
    "        count_page += 1\n",
    "        menus_page = [element for element in driver.find_elements(By.CSS_SELECTOR, '.menus td') if element.text == str(count_page)][0]\n",
    "        ActionChains(driver).move_to_element(menus_page).click().perform()\n",
    "        "
   ]
  },
  {
   "cell_type": "code",
   "execution_count": null,
   "id": "6951c59e",
   "metadata": {},
   "outputs": [],
   "source": []
  }
 ],
 "metadata": {
  "kernelspec": {
   "display_name": "Python 3 (ipykernel)",
   "language": "python",
   "name": "python3"
  },
  "language_info": {
   "codemirror_mode": {
    "name": "ipython",
    "version": 3
   },
   "file_extension": ".py",
   "mimetype": "text/x-python",
   "name": "python",
   "nbconvert_exporter": "python",
   "pygments_lexer": "ipython3",
   "version": "3.11.5"
  }
 },
 "nbformat": 4,
 "nbformat_minor": 5
}
