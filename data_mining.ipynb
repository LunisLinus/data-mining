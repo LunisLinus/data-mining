{
 "cells": [
  {
   "cell_type": "code",
   "execution_count": 35,
   "id": "d0c2bb71",
   "metadata": {},
   "outputs": [],
   "source": [
    "import requests\n",
    "from bs4 import BeautifulSoup\n",
    "import lxml\n",
    "import pandas as pd\n",
    "import time\n",
    "import json\n",
    "import pathlib"
   ]
  },
  {
   "cell_type": "code",
   "execution_count": 5,
   "id": "662bfef2",
   "metadata": {},
   "outputs": [],
   "source": [
    "session = requests.Session()"
   ]
  },
  {
   "cell_type": "code",
   "execution_count": 6,
   "id": "858aa217",
   "metadata": {},
   "outputs": [
    {
     "data": {
      "text/plain": [
       "{'User-Agent': 'python-requests/2.31.0', 'Accept-Encoding': 'gzip, deflate, br', 'Accept': '*/*', 'Connection': 'keep-alive'}"
      ]
     },
     "execution_count": 6,
     "metadata": {},
     "output_type": "execute_result"
    }
   ],
   "source": [
    "session.headers"
   ]
  },
  {
   "cell_type": "code",
   "execution_count": 7,
   "id": "6951c59e",
   "metadata": {},
   "outputs": [],
   "source": [
    "headers = {'User-Agent': 'Mozilla/5.0 (Windows NT 10.0; Win64; x64; en-US; rv:76.0) Gecko/20100101 Firefox/76.0'}\n",
    "session.headers.update(headers)"
   ]
  },
  {
   "cell_type": "code",
   "execution_count": 8,
   "id": "0afc5d36",
   "metadata": {},
   "outputs": [],
   "source": [
    "params_search = {\n",
    "    'fillQuickSearch':'false',\n",
    "    'target':'advanced',\n",
    "    'expand':'dl',\n",
    "    'field1':'AllField',\n",
    "    'text1':\"Text AND Mining OR Clustering OR Classification OR Machine AND Learning OR Data AND Mining\",\n",
    "    'Ppub':\"[20170315 TO 20220315]\",\n",
    "    'pageSize':50,\n",
    "    'startPage':0,\n",
    "    'rel':'nofollow',\n",
    "    'ContentItemType':'research-article'\n",
    "}"
   ]
  },
  {
   "cell_type": "code",
   "execution_count": 10,
   "id": "9530c181",
   "metadata": {},
   "outputs": [],
   "source": [
    "response = session.get('https://dl.acm.org/action/doSearch', params=params_search)"
   ]
  },
  {
   "cell_type": "code",
   "execution_count": 11,
   "id": "13eecad0",
   "metadata": {},
   "outputs": [
    {
     "data": {
      "text/plain": [
       "200"
      ]
     },
     "execution_count": 11,
     "metadata": {},
     "output_type": "execute_result"
    }
   ],
   "source": [
    "response.status_code"
   ]
  },
  {
   "cell_type": "code",
   "execution_count": 12,
   "id": "67f528e5",
   "metadata": {},
   "outputs": [
    {
     "data": {
      "text/plain": [
       "'https://dl.acm.org/action/doSearch?fillQuickSearch=false&target=advanced&expand=dl&field1=AllField&text1=Text+AND+Mining+OR+Clustering+OR+Classification+OR+Machine+AND+Learning+OR+Data+AND+Mining&Ppub=%5B20170315+TO+20220315%5D&pageSize=50&startPage=0&rel=nofollow&ContentItemType=research-article'"
      ]
     },
     "execution_count": 12,
     "metadata": {},
     "output_type": "execute_result"
    }
   ],
   "source": [
    "response.url"
   ]
  },
  {
   "cell_type": "code",
   "execution_count": 13,
   "id": "c164d006",
   "metadata": {},
   "outputs": [],
   "source": [
    "pages = 40\n",
    "soup = BeautifulSoup(response.text, 'lxml')\n",
    "count_articles = int(''.join(soup.select_one('.hitsLength').text.split(','))) // 50\n",
    "if count_articles < pages:\n",
    "    pages = count_articles"
   ]
  },
  {
   "cell_type": "code",
   "execution_count": 14,
   "id": "7a6b8666",
   "metadata": {},
   "outputs": [],
   "source": [
    "def parse_page(params, page):\n",
    "    params['startPage'] = page\n",
    "    titles_links = [[title.text, f\"https://dl.acm.org{title.select_one('a')['href']}\"] for title in soup.select('.hlFld-Title')]\n",
    "    return titles_links"
   ]
  },
  {
   "cell_type": "code",
   "execution_count": 15,
   "id": "76be7222",
   "metadata": {},
   "outputs": [],
   "source": [
    "def parse_info(url):\n",
    "    response = session.get(url)\n",
    "    soup = BeautifulSoup(response.text, 'lxml')\n",
    "    authors = [author.text for author in soup.select('.loa__author-name')]\n",
    "    meta = soup.select_one('.issue-item__detail a')['title']\n",
    "    date = soup.select_one('.epub-section__date')\n",
    "    if date is None:\n",
    "        date = None\n",
    "    else:\n",
    "        date = date.text.strip()\n",
    "    abstract = soup.select_one('.abstractSection').text.strip()\n",
    "    return authors, meta, date, abstract"
   ]
  },
  {
   "cell_type": "code",
   "execution_count": 16,
   "id": "1ebb1dd0",
   "metadata": {},
   "outputs": [],
   "source": [
    "all_articles = {'title': [], 'authors': [], 'date': [], 'source': [], 'abstract': [], 'link': []}\n",
    "for page in range(pages):\n",
    "    titles_links = parse_page(params_search, page)\n",
    "    for title, link in titles_links:\n",
    "        authors, meta, date, abstract = parse_info(link)\n",
    "        all_articles['title'] += [title]\n",
    "        all_articles['authors'] += [authors]\n",
    "        all_articles['date'] += [date]\n",
    "        all_articles['source'] += [meta]\n",
    "        all_articles['abstract'] += [abstract]\n",
    "        all_articles['link'] += [link]"
   ]
  },
  {
   "cell_type": "code",
   "execution_count": 53,
   "id": "b860c62a",
   "metadata": {},
   "outputs": [],
   "source": [
    "data = pd.DataFrame(all_articles)"
   ]
  },
  {
   "cell_type": "code",
   "execution_count": 54,
   "id": "e34962b6",
   "metadata": {},
   "outputs": [
    {
     "data": {
      "text/plain": [
       "title                             Text mining with HathiTrust\n",
       "authors                [Eleanor Dickson Koehl, Ryan Dubnicek]\n",
       "date                                                June 2019\n",
       "source      JCDL '19: Proceedings of the 18th Joint Confer...\n",
       "abstract    This tutorial will introduce attendees to the ...\n",
       "link           https://dl.acm.org/doi/10.1109/JCDL.2019.00115\n",
       "Name: 1968, dtype: object"
      ]
     },
     "execution_count": 54,
     "metadata": {},
     "output_type": "execute_result"
    }
   ],
   "source": [
    "data.iloc[1968,:]"
   ]
  },
  {
   "cell_type": "code",
   "execution_count": 55,
   "id": "c992358d",
   "metadata": {},
   "outputs": [
    {
     "data": {
      "text/html": [
       "<div>\n",
       "<style scoped>\n",
       "    .dataframe tbody tr th:only-of-type {\n",
       "        vertical-align: middle;\n",
       "    }\n",
       "\n",
       "    .dataframe tbody tr th {\n",
       "        vertical-align: top;\n",
       "    }\n",
       "\n",
       "    .dataframe thead th {\n",
       "        text-align: right;\n",
       "    }\n",
       "</style>\n",
       "<table border=\"1\" class=\"dataframe\">\n",
       "  <thead>\n",
       "    <tr style=\"text-align: right;\">\n",
       "      <th></th>\n",
       "      <th>title</th>\n",
       "      <th>authors</th>\n",
       "      <th>date</th>\n",
       "      <th>source</th>\n",
       "      <th>abstract</th>\n",
       "      <th>link</th>\n",
       "    </tr>\n",
       "  </thead>\n",
       "  <tbody>\n",
       "    <tr>\n",
       "      <th>0</th>\n",
       "      <td>Text mining for incoming tasks based on the ur...</td>\n",
       "      <td>[Yasser Ali Alshehri]</td>\n",
       "      <td>March 2020</td>\n",
       "      <td>ICCDA 2020: Proceedings of the 2020 the 4th In...</td>\n",
       "      <td>In workplaces, there is a massive amount of un...</td>\n",
       "      <td>https://dl.acm.org/doi/10.1145/3388142.3388153</td>\n",
       "    </tr>\n",
       "    <tr>\n",
       "      <th>1</th>\n",
       "      <td>Text mining for malware classification using m...</td>\n",
       "      <td>[Konstantinos F. Xylogiannopoulos, Panagiotis ...</td>\n",
       "      <td>August 2019</td>\n",
       "      <td>ASONAM '19: Proceedings of the 2019 IEEE/ACM I...</td>\n",
       "      <td>Mobile phones have become nowadays a commodity...</td>\n",
       "      <td>https://dl.acm.org/doi/10.1145/3341161.3350841</td>\n",
       "    </tr>\n",
       "    <tr>\n",
       "      <th>2</th>\n",
       "      <td>Comparative Study between Traditional Machine ...</td>\n",
       "      <td>[Cannannore Nidhi Kamath, Syed Saqib Bukhari, ...</td>\n",
       "      <td>August 2018</td>\n",
       "      <td>DocEng '18: Proceedings of the ACM Symposium o...</td>\n",
       "      <td>In this contemporaneous world, it is an obliga...</td>\n",
       "      <td>https://dl.acm.org/doi/10.1145/3209280.3209526</td>\n",
       "    </tr>\n",
       "    <tr>\n",
       "      <th>3</th>\n",
       "      <td>Identification of Overpricing in the Purchase ...</td>\n",
       "      <td>[Marco Aurelio O. S. Correa, Adriano Galindo L...</td>\n",
       "      <td>August 2018</td>\n",
       "      <td>ICCBDC '18: Proceedings of the 2018 2nd Intern...</td>\n",
       "      <td>Increasing the transparency level in his actio...</td>\n",
       "      <td>https://dl.acm.org/doi/10.1145/3264560.3264569</td>\n",
       "    </tr>\n",
       "    <tr>\n",
       "      <th>4</th>\n",
       "      <td>Computational Estimation by Scientific Data Mi...</td>\n",
       "      <td>[Aparna S. Varde]</td>\n",
       "      <td>None</td>\n",
       "      <td>ACM Transactions on Knowledge Discovery from Data</td>\n",
       "      <td>Experimental results are often plotted as 2-di...</td>\n",
       "      <td>https://dl.acm.org/doi/10.1145/3502736</td>\n",
       "    </tr>\n",
       "    <tr>\n",
       "      <th>5</th>\n",
       "      <td>Where is the road for issue reports classifica...</td>\n",
       "      <td>[Qiang Fan, Yue Yu, Gang Yin, Tao Wang, Huaimi...</td>\n",
       "      <td>November 2017</td>\n",
       "      <td>ESEM '17: Proceedings of the 11th ACM/IEEE Int...</td>\n",
       "      <td>Currently, open source projects receive variou...</td>\n",
       "      <td>https://dl.acm.org/doi/10.1109/ESEM.2017.19</td>\n",
       "    </tr>\n",
       "    <tr>\n",
       "      <th>6</th>\n",
       "      <td>Feature-based Facebook reviews process model f...</td>\n",
       "      <td>[Anish Kumar Varudharajulu, Yongsheng Ma]</td>\n",
       "      <td>January 2019</td>\n",
       "      <td>IC4E '19: Proceedings of the 10th Internationa...</td>\n",
       "      <td>The data generated from online communication a...</td>\n",
       "      <td>https://dl.acm.org/doi/10.1145/3306500.3306514</td>\n",
       "    </tr>\n",
       "    <tr>\n",
       "      <th>7</th>\n",
       "      <td>Discriminative Topic Mining via Category-Name ...</td>\n",
       "      <td>[Yu Meng, Jiaxin Huang, Guangyuan Wang, Zihan ...</td>\n",
       "      <td>April 2020</td>\n",
       "      <td>WWW '20: Proceedings of The Web Conference 2020</td>\n",
       "      <td>Mining a set of meaningful and distinctive top...</td>\n",
       "      <td>https://dl.acm.org/doi/10.1145/3366423.3380278</td>\n",
       "    </tr>\n",
       "    <tr>\n",
       "      <th>8</th>\n",
       "      <td>Comparative Study of Heart Disease Diagnosis U...</td>\n",
       "      <td>[I. Ketut Agung Enriko]</td>\n",
       "      <td>June 2019</td>\n",
       "      <td>ICFET '19: Proceedings of the 5th Internationa...</td>\n",
       "      <td>Data mining has been used for many purposes, e...</td>\n",
       "      <td>https://dl.acm.org/doi/10.1145/3338188.3338220</td>\n",
       "    </tr>\n",
       "    <tr>\n",
       "      <th>9</th>\n",
       "      <td>Text Mining Approach for Identifying Research ...</td>\n",
       "      <td>[Snezhana Sulova]</td>\n",
       "      <td>June 2021</td>\n",
       "      <td>CompSysTech '21: Proceedings of the 22nd Inter...</td>\n",
       "      <td>With the increase of unstructured data, the is...</td>\n",
       "      <td>https://dl.acm.org/doi/10.1145/3472410.3472433</td>\n",
       "    </tr>\n",
       "  </tbody>\n",
       "</table>\n",
       "</div>"
      ],
      "text/plain": [
       "                                               title  \\\n",
       "0  Text mining for incoming tasks based on the ur...   \n",
       "1  Text mining for malware classification using m...   \n",
       "2  Comparative Study between Traditional Machine ...   \n",
       "3  Identification of Overpricing in the Purchase ...   \n",
       "4  Computational Estimation by Scientific Data Mi...   \n",
       "5  Where is the road for issue reports classifica...   \n",
       "6  Feature-based Facebook reviews process model f...   \n",
       "7  Discriminative Topic Mining via Category-Name ...   \n",
       "8  Comparative Study of Heart Disease Diagnosis U...   \n",
       "9  Text Mining Approach for Identifying Research ...   \n",
       "\n",
       "                                             authors           date  \\\n",
       "0                              [Yasser Ali Alshehri]     March 2020   \n",
       "1  [Konstantinos F. Xylogiannopoulos, Panagiotis ...    August 2019   \n",
       "2  [Cannannore Nidhi Kamath, Syed Saqib Bukhari, ...    August 2018   \n",
       "3  [Marco Aurelio O. S. Correa, Adriano Galindo L...    August 2018   \n",
       "4                                  [Aparna S. Varde]           None   \n",
       "5  [Qiang Fan, Yue Yu, Gang Yin, Tao Wang, Huaimi...  November 2017   \n",
       "6          [Anish Kumar Varudharajulu, Yongsheng Ma]   January 2019   \n",
       "7  [Yu Meng, Jiaxin Huang, Guangyuan Wang, Zihan ...     April 2020   \n",
       "8                            [I. Ketut Agung Enriko]      June 2019   \n",
       "9                                  [Snezhana Sulova]      June 2021   \n",
       "\n",
       "                                              source  \\\n",
       "0  ICCDA 2020: Proceedings of the 2020 the 4th In...   \n",
       "1  ASONAM '19: Proceedings of the 2019 IEEE/ACM I...   \n",
       "2  DocEng '18: Proceedings of the ACM Symposium o...   \n",
       "3  ICCBDC '18: Proceedings of the 2018 2nd Intern...   \n",
       "4  ACM Transactions on Knowledge Discovery from Data   \n",
       "5  ESEM '17: Proceedings of the 11th ACM/IEEE Int...   \n",
       "6  IC4E '19: Proceedings of the 10th Internationa...   \n",
       "7    WWW '20: Proceedings of The Web Conference 2020   \n",
       "8  ICFET '19: Proceedings of the 5th Internationa...   \n",
       "9  CompSysTech '21: Proceedings of the 22nd Inter...   \n",
       "\n",
       "                                            abstract  \\\n",
       "0  In workplaces, there is a massive amount of un...   \n",
       "1  Mobile phones have become nowadays a commodity...   \n",
       "2  In this contemporaneous world, it is an obliga...   \n",
       "3  Increasing the transparency level in his actio...   \n",
       "4  Experimental results are often plotted as 2-di...   \n",
       "5  Currently, open source projects receive variou...   \n",
       "6  The data generated from online communication a...   \n",
       "7  Mining a set of meaningful and distinctive top...   \n",
       "8  Data mining has been used for many purposes, e...   \n",
       "9  With the increase of unstructured data, the is...   \n",
       "\n",
       "                                             link  \n",
       "0  https://dl.acm.org/doi/10.1145/3388142.3388153  \n",
       "1  https://dl.acm.org/doi/10.1145/3341161.3350841  \n",
       "2  https://dl.acm.org/doi/10.1145/3209280.3209526  \n",
       "3  https://dl.acm.org/doi/10.1145/3264560.3264569  \n",
       "4          https://dl.acm.org/doi/10.1145/3502736  \n",
       "5     https://dl.acm.org/doi/10.1109/ESEM.2017.19  \n",
       "6  https://dl.acm.org/doi/10.1145/3306500.3306514  \n",
       "7  https://dl.acm.org/doi/10.1145/3366423.3380278  \n",
       "8  https://dl.acm.org/doi/10.1145/3338188.3338220  \n",
       "9  https://dl.acm.org/doi/10.1145/3472410.3472433  "
      ]
     },
     "execution_count": 55,
     "metadata": {},
     "output_type": "execute_result"
    }
   ],
   "source": [
    "data[:10]"
   ]
  },
  {
   "cell_type": "code",
   "execution_count": 69,
   "id": "14e04c86",
   "metadata": {},
   "outputs": [],
   "source": [
    "with open('articles.json', 'w', encoding='utf-8') as json_file:\n",
    "    json.dump(data.to_dict(orient='records'), json_file, ensure_ascii=False, indent=4)"
   ]
  },
  {
   "cell_type": "code",
   "execution_count": null,
   "id": "2bef9016",
   "metadata": {},
   "outputs": [],
   "source": []
  },
  {
   "cell_type": "code",
   "execution_count": null,
   "id": "1aaa5161",
   "metadata": {},
   "outputs": [],
   "source": []
  },
  {
   "cell_type": "code",
   "execution_count": null,
   "id": "c2d48eda",
   "metadata": {},
   "outputs": [],
   "source": []
  }
 ],
 "metadata": {
  "kernelspec": {
   "display_name": "Python 3 (ipykernel)",
   "language": "python",
   "name": "python3"
  },
  "language_info": {
   "codemirror_mode": {
    "name": "ipython",
    "version": 3
   },
   "file_extension": ".py",
   "mimetype": "text/x-python",
   "name": "python",
   "nbconvert_exporter": "python",
   "pygments_lexer": "ipython3",
   "version": "3.11.5"
  }
 },
 "nbformat": 4,
 "nbformat_minor": 5
}
