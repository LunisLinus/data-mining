{
 "cells": [
  {
   "cell_type": "code",
   "execution_count": 4,
   "id": "d0c2bb71",
   "metadata": {},
   "outputs": [],
   "source": [
    "import requests\n",
    "from bs4 import BeautifulSoup\n",
    "import lxml\n",
    "import pandas as pd\n",
    "import time"
   ]
  },
  {
   "cell_type": "code",
   "execution_count": 5,
   "id": "662bfef2",
   "metadata": {},
   "outputs": [],
   "source": [
    "session = requests.Session()"
   ]
  },
  {
   "cell_type": "code",
   "execution_count": 6,
   "id": "858aa217",
   "metadata": {},
   "outputs": [
    {
     "data": {
      "text/plain": [
       "{'User-Agent': 'python-requests/2.31.0', 'Accept-Encoding': 'gzip, deflate, br', 'Accept': '*/*', 'Connection': 'keep-alive'}"
      ]
     },
     "execution_count": 6,
     "metadata": {},
     "output_type": "execute_result"
    }
   ],
   "source": [
    "session.headers"
   ]
  },
  {
   "cell_type": "code",
   "execution_count": 7,
   "id": "6951c59e",
   "metadata": {},
   "outputs": [],
   "source": [
    "headers = {'User-Agent': 'Mozilla/5.0 (Windows NT 10.0; Win64; x64; en-US; rv:76.0) Gecko/20100101 Firefox/76.0'}\n",
    "session.headers.update(headers)"
   ]
  },
  {
   "cell_type": "code",
   "execution_count": 8,
   "id": "0afc5d36",
   "metadata": {},
   "outputs": [],
   "source": [
    "params_search = {\n",
    "    'fillQuickSearch':'false',\n",
    "    'target':'advanced',\n",
    "    'expand':'dl',\n",
    "    'field1':'AllField',\n",
    "    'text1':\"Text AND Mining OR Clustering OR Classification OR Machine AND Learning OR Data AND Mining\",\n",
    "    'Ppub':\"[20170315 TO 20220315]\",\n",
    "    'pageSize':50,\n",
    "    'startPage':0,\n",
    "    'rel':'nofollow',\n",
    "    'ContentItemType':'research-article'\n",
    "}"
   ]
  },
  {
   "cell_type": "code",
   "execution_count": 10,
   "id": "9530c181",
   "metadata": {},
   "outputs": [],
   "source": [
    "response = session.get('https://dl.acm.org/action/doSearch',params=params_search)"
   ]
  },
  {
   "cell_type": "code",
   "execution_count": 11,
   "id": "ecfaed6a",
   "metadata": {},
   "outputs": [
    {
     "data": {
      "text/plain": [
       "200"
      ]
     },
     "execution_count": 11,
     "metadata": {},
     "output_type": "execute_result"
    }
   ],
   "source": [
    "response.status_code"
   ]
  },
  {
   "cell_type": "code",
   "execution_count": 12,
   "id": "b8a9d6fb",
   "metadata": {},
   "outputs": [
    {
     "data": {
      "text/plain": [
       "'https://dl.acm.org/action/doSearch?fillQuickSearch=false&target=advanced&expand=dl&field1=AllField&text1=Text+AND+Mining+OR+Clustering+OR+Classification+OR+Machine+AND+Learning+OR+Data+AND+Mining&Ppub=%5B20170315+TO+20220315%5D&pageSize=50&startPage=0&rel=nofollow&ContentItemType=research-article'"
      ]
     },
     "execution_count": 12,
     "metadata": {},
     "output_type": "execute_result"
    }
   ],
   "source": [
    "response.url"
   ]
  },
  {
   "cell_type": "code",
   "execution_count": 34,
   "id": "4fa82e36",
   "metadata": {},
   "outputs": [],
   "source": [
    "pages = 40\n",
    "soup = BeautifulSoup(response.text, 'lxml')\n",
    "count_articles = int(''.join(soup.select_one('.hitsLength').text.split(','))) // 50\n",
    "if count_articles < pages:\n",
    "    pages = count_articles"
   ]
  },
  {
   "cell_type": "code",
   "execution_count": 27,
   "id": "b5af057f",
   "metadata": {},
   "outputs": [],
   "source": [
    "def parse_page(params, page):\n",
    "    params['startPage'] = page\n",
    "    titles_links = [[title.text, f\"https://dl.acm.org{title.select_one('a')['href']}\"] for title in soup.select('.hlFld-Title')]\n",
    "    return titles_links"
   ]
  },
  {
   "cell_type": "code",
   "execution_count": 41,
   "id": "dfcc0743",
   "metadata": {},
   "outputs": [],
   "source": [
    "def parse_info(url):\n",
    "    response = session.get(url)\n",
    "    soup = BeautifulSoup(response.text, 'lxml')\n",
    "    authors = [author.text for author in soup.select('.loa__author-name')]\n",
    "    meta = soup.select_one('.issue-item__detail a')['title']\n",
    "    date = soup.select_one('.epub-section__date')\n",
    "    if date is None:\n",
    "        date = ''\n",
    "    else:\n",
    "        date = date.text.strip()\n",
    "    abstract = soup.select_one('.abstractSection').text.strip()\n",
    "    return authors, meta, date, abstract"
   ]
  },
  {
   "cell_type": "code",
   "execution_count": null,
   "id": "c23d8dad",
   "metadata": {},
   "outputs": [],
   "source": [
    "all_articles = {'title': [], 'authors': [], 'date': [], 'source': [], 'abstract': [], 'link': []}\n",
    "for page in range(pages):\n",
    "    titles_links = parse_page(params_search, page)\n",
    "    for title, link in titles_links:\n",
    "        authors, meta, date, abstract = parse_info(link)\n",
    "        all_articles['title'] += [title]\n",
    "        all_articles['authors'] += [authors]\n",
    "        all_articles['date'] += [date]\n",
    "        all_articles['source'] += [meta]\n",
    "        all_articles['abstract'] += [abstract]\n",
    "        all_articles['link'] += [link]"
   ]
  },
  {
   "cell_type": "code",
   "execution_count": null,
   "id": "da424cc1",
   "metadata": {},
   "outputs": [],
   "source": []
  }
 ],
 "metadata": {
  "kernelspec": {
   "display_name": "Python 3 (ipykernel)",
   "language": "python",
   "name": "python3"
  },
  "language_info": {
   "codemirror_mode": {
    "name": "ipython",
    "version": 3
   },
   "file_extension": ".py",
   "mimetype": "text/x-python",
   "name": "python",
   "nbconvert_exporter": "python",
   "pygments_lexer": "ipython3",
   "version": "3.11.5"
  }
 },
 "nbformat": 4,
 "nbformat_minor": 5
}
